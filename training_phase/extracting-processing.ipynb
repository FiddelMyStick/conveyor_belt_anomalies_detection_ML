{
 "cells": [
  {
   "cell_type": "code",
   "execution_count": null,
   "id": "d1ddba18-dd3a-43a3-a14f-f37bedfefc26",
   "metadata": {},
   "outputs": [],
   "source": [
    "import cv2\n",
    "import os\n",
    "\n",
    "def extract_frames(video_path, output_folder):\n",
    "    os.makedirs(output_folder, exist_ok=True)\n",
    "    \n",
    "    cap = cv2.VideoCapture(video_path)\n",
    "    fps = int(cap.get(cv2.CAP_PROP_FPS))  # Should be 19 FPS\n",
    "    total_frames = int(cap.get(cv2.CAP_PROP_FRAME_COUNT))\n",
    "    \n",
    "    print(f\"Extracting {total_frames} frames at {fps} FPS...\")\n",
    "    frame_count = 0\n",
    "    \n",
    "    while cap.isOpened():\n",
    "        ret, frame = cap.read()\n",
    "        if not ret:\n",
    "            break\n",
    "        \n",
    "        frame_filename = os.path.join(output_folder, f\"frame_{frame_count:04d}.png\")\n",
    "        cv2.imwrite(frame_filename, frame)\n",
    "        frame_count += 1\n",
    "        \n",
    "        if frame_count % 100 == 0:\n",
    "            print(f\"Extracted {frame_count}/{total_frames} frames...\")\n",
    "    \n",
    "    cap.release()\n",
    "    print(\"Frame extraction completed!\")\n",
    "\n",
    "# Example usage\n",
    "video_path = r\"C:\\Users\\Legion\\Desktop\\venv_wokplace\\heidleberg\\Av_stuff\\Concasseur_ch9_20240328110637_20240328110803.mp4\"  # Change this to your actual video path\n",
    "output_folder = \"frames_extracted\"\n",
    "extract_frames(video_path, output_folder)\n"
   ]
  },
  {
   "cell_type": "code",
   "execution_count": null,
   "id": "e5e41648-aedd-49b8-b6d7-eb2e53fe99b5",
   "metadata": {},
   "outputs": [],
   "source": [
    "import cv2\n",
    "import os\n",
    "import numpy as np\n",
    "\n",
    "def preprocess_frames(input_folder, output_folder, target_size=(320, 320)):\n",
    "    os.makedirs(output_folder, exist_ok=True)\n",
    "    frame_files = sorted([f for f in os.listdir(input_folder) if f.endswith(('.jpg', '.jpeg', '.png'))])  # Filter image files\n",
    "    \n",
    "    print(f\"Preprocessing {len(frame_files)} frames...\")\n",
    "    \n",
    "    for idx, file in enumerate(frame_files):\n",
    "        img_path = os.path.join(input_folder, file)\n",
    "        img = cv2.imread(img_path)\n",
    "        \n",
    "        # Check if the image was loaded successfully\n",
    "        if img is None:\n",
    "            print(f\"Warning: Could not read image {file}. Skipping...\")\n",
    "            continue\n",
    "        \n",
    "        img = cv2.resize(img, target_size)  # Resize to 320*320\n",
    "        img = img.astype('float32') / 255.0  # Normalize to [0,1]\n",
    "        \n",
    "        output_path = os.path.join(output_folder, file)\n",
    "        cv2.imwrite(output_path, (img * 255).astype('uint8'))  # Save preprocessed frame\n",
    "        \n",
    "        if (idx + 1) % 100 == 0:\n",
    "            print(f\"Processed {idx + 1}/{len(frame_files)} frames...\")\n",
    "    \n",
    "    print(\"Preprocessing completed!\")\n",
    "\n",
    "# Example usage\n",
    "input_folder = r\"C:\\Users\\Legion\\Desktop\\venv_wokplace\\heidleberg\\frames_extracted\"  # Folder with extracted frames\n",
    "output_folder = \"processed_frames\"  # Folder to save preprocessed frames\n",
    "preprocess_frames(input_folder, output_folder)"
   ]
  }
 ],
 "metadata": {
  "kernelspec": {
   "display_name": "venv",
   "language": "python",
   "name": "python3"
  },
  "language_info": {
   "codemirror_mode": {
    "name": "ipython",
    "version": 3
   },
   "file_extension": ".py",
   "mimetype": "text/x-python",
   "name": "python",
   "nbconvert_exporter": "python",
   "pygments_lexer": "ipython3",
   "version": "3.12.0"
  }
 },
 "nbformat": 4,
 "nbformat_minor": 5
}
